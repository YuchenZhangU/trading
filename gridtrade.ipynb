{
 "metadata": {
  "language_info": {
   "codemirror_mode": {
    "name": "ipython",
    "version": 3
   },
   "file_extension": ".py",
   "mimetype": "text/x-python",
   "name": "python",
   "nbconvert_exporter": "python",
   "pygments_lexer": "ipython3",
   "version": "3.7.3"
  },
  "orig_nbformat": 2,
  "kernelspec": {
   "name": "python3",
   "display_name": "Python 3",
   "language": "python"
  }
 },
 "nbformat": 4,
 "nbformat_minor": 2,
 "cells": [
  {
   "cell_type": "code",
   "execution_count": 32,
   "metadata": {},
   "outputs": [],
   "source": [
    "import numpy as np\n",
    "import pandas as pd"
   ]
  },
  {
   "cell_type": "code",
   "execution_count": 67,
   "metadata": {},
   "outputs": [],
   "source": [
    "transcation_fee = 0.0005\n",
    "price_range = [0.033412, 0.037794]\n",
    "n_grid = 20\n",
    "price_spot_init = 0.035686"
   ]
  },
  {
   "cell_type": "code",
   "execution_count": 66,
   "metadata": {},
   "outputs": [
    {
     "output_type": "stream",
     "name": "stdout",
     "text": [
      "[0.033412  0.0336311 0.0338502 0.0340693 0.0342884 0.0345075 0.0347266\n 0.0349457 0.0351648 0.0353839 0.035603  0.0358221 0.0360412 0.0362603\n 0.0364794 0.0366985 0.0369176 0.0371367 0.0373558 0.0375749 0.037794 ]\n"
     ]
    }
   ],
   "source": [
    "spacing = (price_range[1] - price_range[0])/n_grid\n",
    "grid = np.linspace(price_range[0], price_range[1], n_grid+1)\n",
    "print(grid)\n",
    "prices_sold = grid\n",
    "prices_buy = np.insert(grid[:-1], 0, grid[0] - spacing)\n",
    "prices_diff = prices_sold-prices_buy\n",
    "profits = []\n",
    "for ps, pb in zip(prices_sold, prices_buy):\n",
    "    profit = ps - pb - (ps + pb) * transcation_fee\n",
    "    profits.append(profit)"
   ]
  },
  {
   "cell_type": "code",
   "execution_count": 62,
   "metadata": {},
   "outputs": [],
   "source": [
    "df_grid = pd.DataFrame({'prices_sold': prices_sold, 'prices_buy': prices_buy, 'prices_diff': prices_diff, 'profits': profits})\n",
    "df_grid['profits_pct'] = ((df_grid['profits'] / df_grid['prices_buy']) * 100).map(lambda x: f'{x:.3f}%')\n",
    "df_grid['fee_pct'] = ((df_grid['prices_diff'] - df_grid['profits']) / df_grid['prices_diff'] * 100).map(lambda x: f'{x:.3f}%')"
   ]
  },
  {
   "cell_type": "code",
   "execution_count": 70,
   "metadata": {},
   "outputs": [],
   "source": [
    "def get_grid(price_range, n_grid, transcation_fee=0.0005):\n",
    "    spacing = (price_range[1] - price_range[0])/n_grid\n",
    "    grid = np.linspace(price_range[0], price_range[1], n_grid+1)\n",
    "    prices_sold = grid\n",
    "    prices_buy = np.insert(grid[:-1], 0, grid[0] - spacing)\n",
    "    prices_diff = prices_sold-prices_buy\n",
    "    profits = []\n",
    "    for ps, pb in zip(prices_sold, prices_buy):\n",
    "        profit = ps - pb - (ps + pb) * transcation_fee\n",
    "        profits.append(profit)\n",
    "    df_grid = pd.DataFrame({'prices_sold': prices_sold, 'prices_buy': prices_buy, 'prices_diff': prices_diff, 'profits': profits})\n",
    "    df_grid['profits_pct'] = ((df_grid['profits'] / df_grid['prices_buy']) * 100).map(lambda x: f'{x:.3f}%')\n",
    "    df_grid['fee_pct'] = ((df_grid['prices_diff'] - df_grid['profits']) / df_grid['prices_diff'] * 100).map(lambda x: f'{x:.3f}%')\n",
    "    return df_grid"
   ]
  },
  {
   "cell_type": "code",
   "execution_count": 71,
   "metadata": {},
   "outputs": [
    {
     "output_type": "execute_result",
     "data": {
      "text/plain": [
       "    prices_sold  prices_buy  prices_diff   profits profits_pct  fee_pct\n",
       "0      0.033412    0.033193     0.000219  0.000186      0.560%  15.200%\n",
       "1      0.033631    0.033412     0.000219  0.000186      0.555%  15.300%\n",
       "2      0.033850    0.033631     0.000219  0.000185      0.551%  15.400%\n",
       "3      0.034069    0.033850     0.000219  0.000185      0.547%  15.500%\n",
       "4      0.034288    0.034069     0.000219  0.000185      0.543%  15.600%\n",
       "5      0.034507    0.034288     0.000219  0.000185      0.539%  15.700%\n",
       "6      0.034727    0.034507     0.000219  0.000184      0.535%  15.800%\n",
       "7      0.034946    0.034727     0.000219  0.000184      0.531%  15.900%\n",
       "8      0.035165    0.034946     0.000219  0.000184      0.527%  16.000%\n",
       "9      0.035384    0.035165     0.000219  0.000184      0.523%  16.100%\n",
       "10     0.035603    0.035384     0.000219  0.000184      0.519%  16.200%\n",
       "11     0.035822    0.035603     0.000219  0.000183      0.515%  16.300%\n",
       "12     0.036041    0.035822     0.000219  0.000183      0.511%  16.400%\n",
       "13     0.036260    0.036041     0.000219  0.000183      0.508%  16.500%\n",
       "14     0.036479    0.036260     0.000219  0.000183      0.504%  16.600%\n",
       "15     0.036699    0.036479     0.000219  0.000183      0.500%  16.700%\n",
       "16     0.036918    0.036699     0.000219  0.000182      0.497%  16.800%\n",
       "17     0.037137    0.036918     0.000219  0.000182      0.493%  16.900%\n",
       "18     0.037356    0.037137     0.000219  0.000182      0.490%  17.000%\n",
       "19     0.037575    0.037356     0.000219  0.000182      0.486%  17.100%\n",
       "20     0.037794    0.037575     0.000219  0.000181      0.483%  17.200%"
      ],
      "text/html": "<div>\n<style scoped>\n    .dataframe tbody tr th:only-of-type {\n        vertical-align: middle;\n    }\n\n    .dataframe tbody tr th {\n        vertical-align: top;\n    }\n\n    .dataframe thead th {\n        text-align: right;\n    }\n</style>\n<table border=\"1\" class=\"dataframe\">\n  <thead>\n    <tr style=\"text-align: right;\">\n      <th></th>\n      <th>prices_sold</th>\n      <th>prices_buy</th>\n      <th>prices_diff</th>\n      <th>profits</th>\n      <th>profits_pct</th>\n      <th>fee_pct</th>\n    </tr>\n  </thead>\n  <tbody>\n    <tr>\n      <th>0</th>\n      <td>0.033412</td>\n      <td>0.033193</td>\n      <td>0.000219</td>\n      <td>0.000186</td>\n      <td>0.560%</td>\n      <td>15.200%</td>\n    </tr>\n    <tr>\n      <th>1</th>\n      <td>0.033631</td>\n      <td>0.033412</td>\n      <td>0.000219</td>\n      <td>0.000186</td>\n      <td>0.555%</td>\n      <td>15.300%</td>\n    </tr>\n    <tr>\n      <th>2</th>\n      <td>0.033850</td>\n      <td>0.033631</td>\n      <td>0.000219</td>\n      <td>0.000185</td>\n      <td>0.551%</td>\n      <td>15.400%</td>\n    </tr>\n    <tr>\n      <th>3</th>\n      <td>0.034069</td>\n      <td>0.033850</td>\n      <td>0.000219</td>\n      <td>0.000185</td>\n      <td>0.547%</td>\n      <td>15.500%</td>\n    </tr>\n    <tr>\n      <th>4</th>\n      <td>0.034288</td>\n      <td>0.034069</td>\n      <td>0.000219</td>\n      <td>0.000185</td>\n      <td>0.543%</td>\n      <td>15.600%</td>\n    </tr>\n    <tr>\n      <th>5</th>\n      <td>0.034507</td>\n      <td>0.034288</td>\n      <td>0.000219</td>\n      <td>0.000185</td>\n      <td>0.539%</td>\n      <td>15.700%</td>\n    </tr>\n    <tr>\n      <th>6</th>\n      <td>0.034727</td>\n      <td>0.034507</td>\n      <td>0.000219</td>\n      <td>0.000184</td>\n      <td>0.535%</td>\n      <td>15.800%</td>\n    </tr>\n    <tr>\n      <th>7</th>\n      <td>0.034946</td>\n      <td>0.034727</td>\n      <td>0.000219</td>\n      <td>0.000184</td>\n      <td>0.531%</td>\n      <td>15.900%</td>\n    </tr>\n    <tr>\n      <th>8</th>\n      <td>0.035165</td>\n      <td>0.034946</td>\n      <td>0.000219</td>\n      <td>0.000184</td>\n      <td>0.527%</td>\n      <td>16.000%</td>\n    </tr>\n    <tr>\n      <th>9</th>\n      <td>0.035384</td>\n      <td>0.035165</td>\n      <td>0.000219</td>\n      <td>0.000184</td>\n      <td>0.523%</td>\n      <td>16.100%</td>\n    </tr>\n    <tr>\n      <th>10</th>\n      <td>0.035603</td>\n      <td>0.035384</td>\n      <td>0.000219</td>\n      <td>0.000184</td>\n      <td>0.519%</td>\n      <td>16.200%</td>\n    </tr>\n    <tr>\n      <th>11</th>\n      <td>0.035822</td>\n      <td>0.035603</td>\n      <td>0.000219</td>\n      <td>0.000183</td>\n      <td>0.515%</td>\n      <td>16.300%</td>\n    </tr>\n    <tr>\n      <th>12</th>\n      <td>0.036041</td>\n      <td>0.035822</td>\n      <td>0.000219</td>\n      <td>0.000183</td>\n      <td>0.511%</td>\n      <td>16.400%</td>\n    </tr>\n    <tr>\n      <th>13</th>\n      <td>0.036260</td>\n      <td>0.036041</td>\n      <td>0.000219</td>\n      <td>0.000183</td>\n      <td>0.508%</td>\n      <td>16.500%</td>\n    </tr>\n    <tr>\n      <th>14</th>\n      <td>0.036479</td>\n      <td>0.036260</td>\n      <td>0.000219</td>\n      <td>0.000183</td>\n      <td>0.504%</td>\n      <td>16.600%</td>\n    </tr>\n    <tr>\n      <th>15</th>\n      <td>0.036699</td>\n      <td>0.036479</td>\n      <td>0.000219</td>\n      <td>0.000183</td>\n      <td>0.500%</td>\n      <td>16.700%</td>\n    </tr>\n    <tr>\n      <th>16</th>\n      <td>0.036918</td>\n      <td>0.036699</td>\n      <td>0.000219</td>\n      <td>0.000182</td>\n      <td>0.497%</td>\n      <td>16.800%</td>\n    </tr>\n    <tr>\n      <th>17</th>\n      <td>0.037137</td>\n      <td>0.036918</td>\n      <td>0.000219</td>\n      <td>0.000182</td>\n      <td>0.493%</td>\n      <td>16.900%</td>\n    </tr>\n    <tr>\n      <th>18</th>\n      <td>0.037356</td>\n      <td>0.037137</td>\n      <td>0.000219</td>\n      <td>0.000182</td>\n      <td>0.490%</td>\n      <td>17.000%</td>\n    </tr>\n    <tr>\n      <th>19</th>\n      <td>0.037575</td>\n      <td>0.037356</td>\n      <td>0.000219</td>\n      <td>0.000182</td>\n      <td>0.486%</td>\n      <td>17.100%</td>\n    </tr>\n    <tr>\n      <th>20</th>\n      <td>0.037794</td>\n      <td>0.037575</td>\n      <td>0.000219</td>\n      <td>0.000181</td>\n      <td>0.483%</td>\n      <td>17.200%</td>\n    </tr>\n  </tbody>\n</table>\n</div>"
     },
     "metadata": {},
     "execution_count": 71
    }
   ],
   "source": [
    "get_grid(price_range, n_grid)"
   ]
  },
  {
   "cell_type": "code",
   "execution_count": 72,
   "metadata": {},
   "outputs": [
    {
     "output_type": "execute_result",
     "data": {
      "text/plain": [
       "    prices_sold  prices_buy  prices_diff   profits profits_pct  fee_pct\n",
       "0      0.003430    0.003359     0.000071  0.000068      2.016%   4.775%\n",
       "1      0.003501    0.003430     0.000071  0.000068      1.972%   4.875%\n",
       "2      0.003572    0.003501     0.000071  0.000068      1.930%   4.975%\n",
       "3      0.003643    0.003572     0.000071  0.000067      1.889%   5.075%\n",
       "4      0.003714    0.003643     0.000071  0.000067      1.850%   5.175%\n",
       "5      0.003785    0.003714     0.000071  0.000067      1.813%   5.275%\n",
       "6      0.003856    0.003785     0.000071  0.000067      1.777%   5.375%\n",
       "7      0.003928    0.003856     0.000071  0.000067      1.743%   5.475%\n",
       "8      0.003999    0.003928     0.000071  0.000067      1.709%   5.575%\n",
       "9      0.004070    0.003999     0.000071  0.000067      1.677%   5.675%\n",
       "10     0.004141    0.004070     0.000071  0.000067      1.646%   5.775%\n",
       "11     0.004212    0.004141     0.000071  0.000067      1.616%   5.875%\n",
       "12     0.004283    0.004212     0.000071  0.000067      1.587%   5.975%\n",
       "13     0.004354    0.004283     0.000071  0.000067      1.559%   6.075%\n",
       "14     0.004425    0.004354     0.000071  0.000067      1.532%   6.175%\n",
       "15     0.004496    0.004425     0.000071  0.000067      1.506%   6.275%\n",
       "16     0.004567    0.004496     0.000071  0.000067      1.480%   6.375%\n",
       "17     0.004638    0.004567     0.000071  0.000066      1.456%   6.475%\n",
       "18     0.004710    0.004638     0.000071  0.000066      1.432%   6.575%\n",
       "19     0.004781    0.004710     0.000071  0.000066      1.409%   6.675%\n",
       "20     0.004852    0.004781     0.000071  0.000066      1.386%   6.775%\n",
       "21     0.004923    0.004852     0.000071  0.000066      1.365%   6.875%\n",
       "22     0.004994    0.004923     0.000071  0.000066      1.343%   6.975%\n",
       "23     0.005065    0.004994     0.000071  0.000066      1.323%   7.075%\n",
       "24     0.005136    0.005065     0.000071  0.000066      1.303%   7.175%\n",
       "25     0.005207    0.005136     0.000071  0.000066      1.283%   7.275%\n",
       "26     0.005278    0.005207     0.000071  0.000066      1.265%   7.375%\n",
       "27     0.005349    0.005278     0.000071  0.000066      1.246%   7.475%\n",
       "28     0.005420    0.005349     0.000071  0.000066      1.228%   7.575%\n",
       "29     0.005492    0.005420     0.000071  0.000066      1.211%   7.675%\n",
       "..          ...         ...          ...       ...         ...      ...\n",
       "70     0.008406    0.008335     0.000071  0.000063      0.752%  11.775%\n",
       "71     0.008477    0.008406     0.000071  0.000063      0.745%  11.875%\n",
       "72     0.008549    0.008477     0.000071  0.000063      0.738%  11.975%\n",
       "73     0.008620    0.008549     0.000071  0.000063      0.731%  12.075%\n",
       "74     0.008691    0.008620     0.000071  0.000062      0.724%  12.175%\n",
       "75     0.008762    0.008691     0.000071  0.000062      0.718%  12.275%\n",
       "76     0.008833    0.008762     0.000071  0.000062      0.711%  12.375%\n",
       "77     0.008904    0.008833     0.000071  0.000062      0.704%  12.475%\n",
       "78     0.008975    0.008904     0.000071  0.000062      0.698%  12.575%\n",
       "79     0.009046    0.008975     0.000071  0.000062      0.692%  12.675%\n",
       "80     0.009117    0.009046     0.000071  0.000062      0.685%  12.775%\n",
       "81     0.009188    0.009117     0.000071  0.000062      0.679%  12.875%\n",
       "82     0.009259    0.009188     0.000071  0.000062      0.673%  12.975%\n",
       "83     0.009331    0.009259     0.000071  0.000062      0.667%  13.075%\n",
       "84     0.009402    0.009331     0.000071  0.000062      0.662%  13.175%\n",
       "85     0.009473    0.009402     0.000071  0.000062      0.656%  13.275%\n",
       "86     0.009544    0.009473     0.000071  0.000062      0.650%  13.375%\n",
       "87     0.009615    0.009544     0.000071  0.000062      0.645%  13.475%\n",
       "88     0.009686    0.009615     0.000071  0.000061      0.639%  13.575%\n",
       "89     0.009757    0.009686     0.000071  0.000061      0.634%  13.675%\n",
       "90     0.009828    0.009757     0.000071  0.000061      0.628%  13.775%\n",
       "91     0.009899    0.009828     0.000071  0.000061      0.623%  13.875%\n",
       "92     0.009970    0.009899     0.000071  0.000061      0.618%  13.975%\n",
       "93     0.010041    0.009970     0.000071  0.000061      0.613%  14.075%\n",
       "94     0.010113    0.010041     0.000071  0.000061      0.608%  14.175%\n",
       "95     0.010184    0.010113     0.000071  0.000061      0.603%  14.275%\n",
       "96     0.010255    0.010184     0.000071  0.000061      0.598%  14.375%\n",
       "97     0.010326    0.010255     0.000071  0.000061      0.593%  14.475%\n",
       "98     0.010397    0.010326     0.000071  0.000061      0.588%  14.575%\n",
       "99     0.010468    0.010397     0.000071  0.000061      0.583%  14.675%\n",
       "\n",
       "[100 rows x 6 columns]"
      ],
      "text/html": "<div>\n<style scoped>\n    .dataframe tbody tr th:only-of-type {\n        vertical-align: middle;\n    }\n\n    .dataframe tbody tr th {\n        vertical-align: top;\n    }\n\n    .dataframe thead th {\n        text-align: right;\n    }\n</style>\n<table border=\"1\" class=\"dataframe\">\n  <thead>\n    <tr style=\"text-align: right;\">\n      <th></th>\n      <th>prices_sold</th>\n      <th>prices_buy</th>\n      <th>prices_diff</th>\n      <th>profits</th>\n      <th>profits_pct</th>\n      <th>fee_pct</th>\n    </tr>\n  </thead>\n  <tbody>\n    <tr>\n      <th>0</th>\n      <td>0.003430</td>\n      <td>0.003359</td>\n      <td>0.000071</td>\n      <td>0.000068</td>\n      <td>2.016%</td>\n      <td>4.775%</td>\n    </tr>\n    <tr>\n      <th>1</th>\n      <td>0.003501</td>\n      <td>0.003430</td>\n      <td>0.000071</td>\n      <td>0.000068</td>\n      <td>1.972%</td>\n      <td>4.875%</td>\n    </tr>\n    <tr>\n      <th>2</th>\n      <td>0.003572</td>\n      <td>0.003501</td>\n      <td>0.000071</td>\n      <td>0.000068</td>\n      <td>1.930%</td>\n      <td>4.975%</td>\n    </tr>\n    <tr>\n      <th>3</th>\n      <td>0.003643</td>\n      <td>0.003572</td>\n      <td>0.000071</td>\n      <td>0.000067</td>\n      <td>1.889%</td>\n      <td>5.075%</td>\n    </tr>\n    <tr>\n      <th>4</th>\n      <td>0.003714</td>\n      <td>0.003643</td>\n      <td>0.000071</td>\n      <td>0.000067</td>\n      <td>1.850%</td>\n      <td>5.175%</td>\n    </tr>\n    <tr>\n      <th>5</th>\n      <td>0.003785</td>\n      <td>0.003714</td>\n      <td>0.000071</td>\n      <td>0.000067</td>\n      <td>1.813%</td>\n      <td>5.275%</td>\n    </tr>\n    <tr>\n      <th>6</th>\n      <td>0.003856</td>\n      <td>0.003785</td>\n      <td>0.000071</td>\n      <td>0.000067</td>\n      <td>1.777%</td>\n      <td>5.375%</td>\n    </tr>\n    <tr>\n      <th>7</th>\n      <td>0.003928</td>\n      <td>0.003856</td>\n      <td>0.000071</td>\n      <td>0.000067</td>\n      <td>1.743%</td>\n      <td>5.475%</td>\n    </tr>\n    <tr>\n      <th>8</th>\n      <td>0.003999</td>\n      <td>0.003928</td>\n      <td>0.000071</td>\n      <td>0.000067</td>\n      <td>1.709%</td>\n      <td>5.575%</td>\n    </tr>\n    <tr>\n      <th>9</th>\n      <td>0.004070</td>\n      <td>0.003999</td>\n      <td>0.000071</td>\n      <td>0.000067</td>\n      <td>1.677%</td>\n      <td>5.675%</td>\n    </tr>\n    <tr>\n      <th>10</th>\n      <td>0.004141</td>\n      <td>0.004070</td>\n      <td>0.000071</td>\n      <td>0.000067</td>\n      <td>1.646%</td>\n      <td>5.775%</td>\n    </tr>\n    <tr>\n      <th>11</th>\n      <td>0.004212</td>\n      <td>0.004141</td>\n      <td>0.000071</td>\n      <td>0.000067</td>\n      <td>1.616%</td>\n      <td>5.875%</td>\n    </tr>\n    <tr>\n      <th>12</th>\n      <td>0.004283</td>\n      <td>0.004212</td>\n      <td>0.000071</td>\n      <td>0.000067</td>\n      <td>1.587%</td>\n      <td>5.975%</td>\n    </tr>\n    <tr>\n      <th>13</th>\n      <td>0.004354</td>\n      <td>0.004283</td>\n      <td>0.000071</td>\n      <td>0.000067</td>\n      <td>1.559%</td>\n      <td>6.075%</td>\n    </tr>\n    <tr>\n      <th>14</th>\n      <td>0.004425</td>\n      <td>0.004354</td>\n      <td>0.000071</td>\n      <td>0.000067</td>\n      <td>1.532%</td>\n      <td>6.175%</td>\n    </tr>\n    <tr>\n      <th>15</th>\n      <td>0.004496</td>\n      <td>0.004425</td>\n      <td>0.000071</td>\n      <td>0.000067</td>\n      <td>1.506%</td>\n      <td>6.275%</td>\n    </tr>\n    <tr>\n      <th>16</th>\n      <td>0.004567</td>\n      <td>0.004496</td>\n      <td>0.000071</td>\n      <td>0.000067</td>\n      <td>1.480%</td>\n      <td>6.375%</td>\n    </tr>\n    <tr>\n      <th>17</th>\n      <td>0.004638</td>\n      <td>0.004567</td>\n      <td>0.000071</td>\n      <td>0.000066</td>\n      <td>1.456%</td>\n      <td>6.475%</td>\n    </tr>\n    <tr>\n      <th>18</th>\n      <td>0.004710</td>\n      <td>0.004638</td>\n      <td>0.000071</td>\n      <td>0.000066</td>\n      <td>1.432%</td>\n      <td>6.575%</td>\n    </tr>\n    <tr>\n      <th>19</th>\n      <td>0.004781</td>\n      <td>0.004710</td>\n      <td>0.000071</td>\n      <td>0.000066</td>\n      <td>1.409%</td>\n      <td>6.675%</td>\n    </tr>\n    <tr>\n      <th>20</th>\n      <td>0.004852</td>\n      <td>0.004781</td>\n      <td>0.000071</td>\n      <td>0.000066</td>\n      <td>1.386%</td>\n      <td>6.775%</td>\n    </tr>\n    <tr>\n      <th>21</th>\n      <td>0.004923</td>\n      <td>0.004852</td>\n      <td>0.000071</td>\n      <td>0.000066</td>\n      <td>1.365%</td>\n      <td>6.875%</td>\n    </tr>\n    <tr>\n      <th>22</th>\n      <td>0.004994</td>\n      <td>0.004923</td>\n      <td>0.000071</td>\n      <td>0.000066</td>\n      <td>1.343%</td>\n      <td>6.975%</td>\n    </tr>\n    <tr>\n      <th>23</th>\n      <td>0.005065</td>\n      <td>0.004994</td>\n      <td>0.000071</td>\n      <td>0.000066</td>\n      <td>1.323%</td>\n      <td>7.075%</td>\n    </tr>\n    <tr>\n      <th>24</th>\n      <td>0.005136</td>\n      <td>0.005065</td>\n      <td>0.000071</td>\n      <td>0.000066</td>\n      <td>1.303%</td>\n      <td>7.175%</td>\n    </tr>\n    <tr>\n      <th>25</th>\n      <td>0.005207</td>\n      <td>0.005136</td>\n      <td>0.000071</td>\n      <td>0.000066</td>\n      <td>1.283%</td>\n      <td>7.275%</td>\n    </tr>\n    <tr>\n      <th>26</th>\n      <td>0.005278</td>\n      <td>0.005207</td>\n      <td>0.000071</td>\n      <td>0.000066</td>\n      <td>1.265%</td>\n      <td>7.375%</td>\n    </tr>\n    <tr>\n      <th>27</th>\n      <td>0.005349</td>\n      <td>0.005278</td>\n      <td>0.000071</td>\n      <td>0.000066</td>\n      <td>1.246%</td>\n      <td>7.475%</td>\n    </tr>\n    <tr>\n      <th>28</th>\n      <td>0.005420</td>\n      <td>0.005349</td>\n      <td>0.000071</td>\n      <td>0.000066</td>\n      <td>1.228%</td>\n      <td>7.575%</td>\n    </tr>\n    <tr>\n      <th>29</th>\n      <td>0.005492</td>\n      <td>0.005420</td>\n      <td>0.000071</td>\n      <td>0.000066</td>\n      <td>1.211%</td>\n      <td>7.675%</td>\n    </tr>\n    <tr>\n      <th>...</th>\n      <td>...</td>\n      <td>...</td>\n      <td>...</td>\n      <td>...</td>\n      <td>...</td>\n      <td>...</td>\n    </tr>\n    <tr>\n      <th>70</th>\n      <td>0.008406</td>\n      <td>0.008335</td>\n      <td>0.000071</td>\n      <td>0.000063</td>\n      <td>0.752%</td>\n      <td>11.775%</td>\n    </tr>\n    <tr>\n      <th>71</th>\n      <td>0.008477</td>\n      <td>0.008406</td>\n      <td>0.000071</td>\n      <td>0.000063</td>\n      <td>0.745%</td>\n      <td>11.875%</td>\n    </tr>\n    <tr>\n      <th>72</th>\n      <td>0.008549</td>\n      <td>0.008477</td>\n      <td>0.000071</td>\n      <td>0.000063</td>\n      <td>0.738%</td>\n      <td>11.975%</td>\n    </tr>\n    <tr>\n      <th>73</th>\n      <td>0.008620</td>\n      <td>0.008549</td>\n      <td>0.000071</td>\n      <td>0.000063</td>\n      <td>0.731%</td>\n      <td>12.075%</td>\n    </tr>\n    <tr>\n      <th>74</th>\n      <td>0.008691</td>\n      <td>0.008620</td>\n      <td>0.000071</td>\n      <td>0.000062</td>\n      <td>0.724%</td>\n      <td>12.175%</td>\n    </tr>\n    <tr>\n      <th>75</th>\n      <td>0.008762</td>\n      <td>0.008691</td>\n      <td>0.000071</td>\n      <td>0.000062</td>\n      <td>0.718%</td>\n      <td>12.275%</td>\n    </tr>\n    <tr>\n      <th>76</th>\n      <td>0.008833</td>\n      <td>0.008762</td>\n      <td>0.000071</td>\n      <td>0.000062</td>\n      <td>0.711%</td>\n      <td>12.375%</td>\n    </tr>\n    <tr>\n      <th>77</th>\n      <td>0.008904</td>\n      <td>0.008833</td>\n      <td>0.000071</td>\n      <td>0.000062</td>\n      <td>0.704%</td>\n      <td>12.475%</td>\n    </tr>\n    <tr>\n      <th>78</th>\n      <td>0.008975</td>\n      <td>0.008904</td>\n      <td>0.000071</td>\n      <td>0.000062</td>\n      <td>0.698%</td>\n      <td>12.575%</td>\n    </tr>\n    <tr>\n      <th>79</th>\n      <td>0.009046</td>\n      <td>0.008975</td>\n      <td>0.000071</td>\n      <td>0.000062</td>\n      <td>0.692%</td>\n      <td>12.675%</td>\n    </tr>\n    <tr>\n      <th>80</th>\n      <td>0.009117</td>\n      <td>0.009046</td>\n      <td>0.000071</td>\n      <td>0.000062</td>\n      <td>0.685%</td>\n      <td>12.775%</td>\n    </tr>\n    <tr>\n      <th>81</th>\n      <td>0.009188</td>\n      <td>0.009117</td>\n      <td>0.000071</td>\n      <td>0.000062</td>\n      <td>0.679%</td>\n      <td>12.875%</td>\n    </tr>\n    <tr>\n      <th>82</th>\n      <td>0.009259</td>\n      <td>0.009188</td>\n      <td>0.000071</td>\n      <td>0.000062</td>\n      <td>0.673%</td>\n      <td>12.975%</td>\n    </tr>\n    <tr>\n      <th>83</th>\n      <td>0.009331</td>\n      <td>0.009259</td>\n      <td>0.000071</td>\n      <td>0.000062</td>\n      <td>0.667%</td>\n      <td>13.075%</td>\n    </tr>\n    <tr>\n      <th>84</th>\n      <td>0.009402</td>\n      <td>0.009331</td>\n      <td>0.000071</td>\n      <td>0.000062</td>\n      <td>0.662%</td>\n      <td>13.175%</td>\n    </tr>\n    <tr>\n      <th>85</th>\n      <td>0.009473</td>\n      <td>0.009402</td>\n      <td>0.000071</td>\n      <td>0.000062</td>\n      <td>0.656%</td>\n      <td>13.275%</td>\n    </tr>\n    <tr>\n      <th>86</th>\n      <td>0.009544</td>\n      <td>0.009473</td>\n      <td>0.000071</td>\n      <td>0.000062</td>\n      <td>0.650%</td>\n      <td>13.375%</td>\n    </tr>\n    <tr>\n      <th>87</th>\n      <td>0.009615</td>\n      <td>0.009544</td>\n      <td>0.000071</td>\n      <td>0.000062</td>\n      <td>0.645%</td>\n      <td>13.475%</td>\n    </tr>\n    <tr>\n      <th>88</th>\n      <td>0.009686</td>\n      <td>0.009615</td>\n      <td>0.000071</td>\n      <td>0.000061</td>\n      <td>0.639%</td>\n      <td>13.575%</td>\n    </tr>\n    <tr>\n      <th>89</th>\n      <td>0.009757</td>\n      <td>0.009686</td>\n      <td>0.000071</td>\n      <td>0.000061</td>\n      <td>0.634%</td>\n      <td>13.675%</td>\n    </tr>\n    <tr>\n      <th>90</th>\n      <td>0.009828</td>\n      <td>0.009757</td>\n      <td>0.000071</td>\n      <td>0.000061</td>\n      <td>0.628%</td>\n      <td>13.775%</td>\n    </tr>\n    <tr>\n      <th>91</th>\n      <td>0.009899</td>\n      <td>0.009828</td>\n      <td>0.000071</td>\n      <td>0.000061</td>\n      <td>0.623%</td>\n      <td>13.875%</td>\n    </tr>\n    <tr>\n      <th>92</th>\n      <td>0.009970</td>\n      <td>0.009899</td>\n      <td>0.000071</td>\n      <td>0.000061</td>\n      <td>0.618%</td>\n      <td>13.975%</td>\n    </tr>\n    <tr>\n      <th>93</th>\n      <td>0.010041</td>\n      <td>0.009970</td>\n      <td>0.000071</td>\n      <td>0.000061</td>\n      <td>0.613%</td>\n      <td>14.075%</td>\n    </tr>\n    <tr>\n      <th>94</th>\n      <td>0.010113</td>\n      <td>0.010041</td>\n      <td>0.000071</td>\n      <td>0.000061</td>\n      <td>0.608%</td>\n      <td>14.175%</td>\n    </tr>\n    <tr>\n      <th>95</th>\n      <td>0.010184</td>\n      <td>0.010113</td>\n      <td>0.000071</td>\n      <td>0.000061</td>\n      <td>0.603%</td>\n      <td>14.275%</td>\n    </tr>\n    <tr>\n      <th>96</th>\n      <td>0.010255</td>\n      <td>0.010184</td>\n      <td>0.000071</td>\n      <td>0.000061</td>\n      <td>0.598%</td>\n      <td>14.375%</td>\n    </tr>\n    <tr>\n      <th>97</th>\n      <td>0.010326</td>\n      <td>0.010255</td>\n      <td>0.000071</td>\n      <td>0.000061</td>\n      <td>0.593%</td>\n      <td>14.475%</td>\n    </tr>\n    <tr>\n      <th>98</th>\n      <td>0.010397</td>\n      <td>0.010326</td>\n      <td>0.000071</td>\n      <td>0.000061</td>\n      <td>0.588%</td>\n      <td>14.575%</td>\n    </tr>\n    <tr>\n      <th>99</th>\n      <td>0.010468</td>\n      <td>0.010397</td>\n      <td>0.000071</td>\n      <td>0.000061</td>\n      <td>0.583%</td>\n      <td>14.675%</td>\n    </tr>\n  </tbody>\n</table>\n<p>100 rows × 6 columns</p>\n</div>"
     },
     "metadata": {},
     "execution_count": 72
    }
   ],
   "source": [
    "get_grid([0.0034299, 0.010468], 99)"
   ]
  }
 ]
}